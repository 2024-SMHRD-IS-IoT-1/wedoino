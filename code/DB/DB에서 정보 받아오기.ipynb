{
 "cells": [
  {
   "cell_type": "code",
   "execution_count": 2,
   "id": "ad375f6a-3699-45cd-bc03-91c0f6d59a69",
   "metadata": {},
   "outputs": [
    {
     "name": "stdout",
     "output_type": "stream",
     "text": [
      "Requirement already satisfied: pymysql in c:\\users\\smhrd\\anaconda3\\lib\\site-packages (1.1.1)\n",
      "Note: you may need to restart the kernel to use updated packages.\n"
     ]
    }
   ],
   "source": [
    "pip install pymysql"
   ]
  },
  {
   "cell_type": "code",
   "execution_count": 3,
   "id": "772e4832-ed99-49a3-9ead-5908d84c2e78",
   "metadata": {},
   "outputs": [
    {
     "name": "stdout",
     "output_type": "stream",
     "text": [
      "Collecting mysql-connector-python\n",
      "  Downloading mysql_connector_python-9.0.0-cp311-cp311-win_amd64.whl.metadata (2.0 kB)\n",
      "Downloading mysql_connector_python-9.0.0-cp311-cp311-win_amd64.whl (14.3 MB)\n",
      "   ---------------------------------------- 0.0/14.3 MB ? eta -:--:--\n",
      "   ---------------------------------------- 0.0/14.3 MB ? eta -:--:--\n",
      "    --------------------------------------- 0.3/14.3 MB 2.7 MB/s eta 0:00:06\n",
      "   --- ------------------------------------ 1.2/14.3 MB 8.4 MB/s eta 0:00:02\n",
      "   --- ------------------------------------ 1.3/14.3 MB 7.6 MB/s eta 0:00:02\n",
      "   ---- ----------------------------------- 1.5/14.3 MB 6.4 MB/s eta 0:00:02\n",
      "   ---- ----------------------------------- 1.7/14.3 MB 6.0 MB/s eta 0:00:03\n",
      "   ----------- ---------------------------- 4.0/14.3 MB 12.2 MB/s eta 0:00:01\n",
      "   -------------------- ------------------- 7.5/14.3 MB 20.0 MB/s eta 0:00:01\n",
      "   --------------------- ------------------ 7.6/14.3 MB 17.9 MB/s eta 0:00:01\n",
      "   --------------------- ------------------ 7.8/14.3 MB 16.6 MB/s eta 0:00:01\n",
      "   ---------------------- ----------------- 8.2/14.3 MB 15.9 MB/s eta 0:00:01\n",
      "   ----------------------- ---------------- 8.5/14.3 MB 16.0 MB/s eta 0:00:01\n",
      "   ----------------------- ---------------- 8.6/14.3 MB 14.4 MB/s eta 0:00:01\n",
      "   ------------------------ --------------- 8.6/14.3 MB 13.1 MB/s eta 0:00:01\n",
      "   ------------------------ --------------- 8.7/14.3 MB 12.4 MB/s eta 0:00:01\n",
      "   ------------------------ --------------- 8.9/14.3 MB 11.8 MB/s eta 0:00:01\n",
      "   ------------------------- -------------- 9.1/14.3 MB 11.2 MB/s eta 0:00:01\n",
      "   ------------------------------ --------- 11.1/14.3 MB 13.4 MB/s eta 0:00:01\n",
      "   ---------------------------------------  14.3/14.3 MB 17.7 MB/s eta 0:00:01\n",
      "   ---------------------------------------- 14.3/14.3 MB 16.0 MB/s eta 0:00:00\n",
      "Installing collected packages: mysql-connector-python\n",
      "Successfully installed mysql-connector-python-9.0.0\n",
      "Note: you may need to restart the kernel to use updated packages.\n"
     ]
    }
   ],
   "source": [
    "pip install mysql-connector-python"
   ]
  },
  {
   "cell_type": "code",
   "execution_count": 4,
   "id": "a73036f1-315a-49fa-8250-19db282abf5c",
   "metadata": {},
   "outputs": [
    {
     "name": "stdout",
     "output_type": "stream",
     "text": [
      "Requirement already satisfied: flask in c:\\users\\smhrd\\anaconda3\\lib\\site-packages (2.2.5)\n",
      "Requirement already satisfied: Werkzeug>=2.2.2 in c:\\users\\smhrd\\anaconda3\\lib\\site-packages (from flask) (2.2.3)\n",
      "Requirement already satisfied: Jinja2>=3.0 in c:\\users\\smhrd\\anaconda3\\lib\\site-packages (from flask) (3.1.3)\n",
      "Requirement already satisfied: itsdangerous>=2.0 in c:\\users\\smhrd\\anaconda3\\lib\\site-packages (from flask) (2.0.1)\n",
      "Requirement already satisfied: click>=8.0 in c:\\users\\smhrd\\anaconda3\\lib\\site-packages (from flask) (8.1.7)\n",
      "Requirement already satisfied: colorama in c:\\users\\smhrd\\anaconda3\\lib\\site-packages (from click>=8.0->flask) (0.4.6)\n",
      "Requirement already satisfied: MarkupSafe>=2.0 in c:\\users\\smhrd\\anaconda3\\lib\\site-packages (from Jinja2>=3.0->flask) (2.1.3)\n"
     ]
    }
   ],
   "source": [
    "!pip install flask"
   ]
  },
  {
   "cell_type": "code",
   "execution_count": 6,
   "id": "1af83b69-95ca-4efd-bf21-f6e22e522279",
   "metadata": {},
   "outputs": [],
   "source": [
    "import matplotlib.pyplot as plt\n",
    "import pandas as pd\n",
    "import mysql.connector"
   ]
  },
  {
   "cell_type": "code",
   "execution_count": 42,
   "id": "3c6a1eab-569b-456d-b840-f3c995f1982a",
   "metadata": {},
   "outputs": [],
   "source": [
    "conn = mysql.connector.connect(\n",
    "    host = \"project-db-cgi.smhrd.com\",\n",
    "    port = 3307,\n",
    "    user = \"campus_24IS_IoT1_P2_2\",\n",
    "    password = \"smhrd2\",\n",
    "    database = \"campus_24IS_IoT1_P2_2\"\n",
    "    )\n",
    "curs = conn.cursor()\n",
    "# 누적 생산량 구하는 코드\n",
    "#curs.execute(\"select * from tb_generated_power\")\n",
    "curs.execute(\"SELECT SUM(energy) FROM tb_generated_power WHERE DAY(created_at) >=1 and day(created_at) <= 31 ;\")\n",
    "#conn.commit()\n",
    "st_prod = curs.fetchall()"
   ]
  },
  {
   "cell_type": "code",
   "execution_count": 24,
   "id": "3e15eaf2",
   "metadata": {},
   "outputs": [
    {
     "data": {
      "text/plain": [
       "decimal.Decimal"
      ]
     },
     "execution_count": 24,
     "metadata": {},
     "output_type": "execute_result"
    }
   ],
   "source": [
    "type(st_prod[0][0])"
   ]
  },
  {
   "cell_type": "code",
   "execution_count": 25,
   "id": "457384b2-4c4b-4c9f-8240-7a9b5152273f",
   "metadata": {},
   "outputs": [
    {
     "data": {
      "text/plain": [
       "[(Decimal('197.08'),)]"
      ]
     },
     "execution_count": 25,
     "metadata": {},
     "output_type": "execute_result"
    }
   ],
   "source": [
    "# 누적 축적량 구하는 코드\n",
    "usage = 10000 *0.1\n",
    "sql = f\"\"\"select sum(t1.energy) - {usage}\n",
    "from (select distinct energy, created_at\n",
    "\t\tfrom tb_generated_power\n",
    "\t\twhere created_at>= DATE_ADD(NOW(), INTERVAL -1 month)) t1;\"\"\"\n",
    "curs.execute(\"SELECT SUM(energy) FROM tb_generated_power\")\n",
    "st_stack = curs.fetchall()\n",
    "st_stack"
   ]
  },
  {
   "cell_type": "code",
   "execution_count": 26,
   "id": "96d584d0",
   "metadata": {},
   "outputs": [],
   "source": [
    "sql=\"\"\"SELECT distinct avg(t1.efficienty)\n",
    "FROM tb_generated_power t1\n",
    "JOIN (\n",
    "    SELECT panel_idx, MAX(created_at) AS latest\n",
    "    FROM tb_generated_power\n",
    "    GROUP BY panel_idx\n",
    ") t2\n",
    "ON t1.panel_idx = t2.panel_idx AND t1.created_at = t2.latest;\"\"\"\n",
    "curs.execute(sql)\n",
    "efficienty = curs.fetchall()"
   ]
  },
  {
   "cell_type": "code",
   "execution_count": 27,
   "id": "ce072852-1dc7-4fa6-8756-a3b9dcfc2009",
   "metadata": {},
   "outputs": [
    {
     "data": {
      "text/plain": [
       "[(Decimal('14.948571'),)]"
      ]
     },
     "execution_count": 27,
     "metadata": {},
     "output_type": "execute_result"
    }
   ],
   "source": [
    "# 현재 평균 생산량 구하는 코드\n",
    "sql = \"\"\"SELECT distinct avg(t1.energy)\n",
    "FROM tb_generated_power t1\n",
    "JOIN (\n",
    "    SELECT panel_idx, MAX(created_at) AS latest\n",
    "    FROM tb_generated_power\n",
    "    GROUP BY panel_idx\n",
    ") t2\n",
    "ON t1.panel_idx = t2.panel_idx AND t1.created_at = t2.latest;\n",
    "\"\"\"\n",
    "curs.execute(sql)\n",
    "curr_prod = curs.fetchall()\n",
    "curr_prod"
   ]
  },
  {
   "cell_type": "code",
   "execution_count": 28,
   "id": "9e821254-3531-43c6-97b9-281a0462cca0",
   "metadata": {},
   "outputs": [
    {
     "data": {
      "text/plain": [
       "[(Decimal('41.848800'),)]"
      ]
     },
     "execution_count": 28,
     "metadata": {},
     "output_type": "execute_result"
    }
   ],
   "source": [
    "# 배터리 충전 상태 구하는 코드\n",
    "now = 0.5\n",
    "usage = 10000 *0.1\n",
    "battery = 10000\n",
    "sql=f\"\"\"select ( {battery} * {now} + sum(t1.energy) - {usage}) /{battery} *100\n",
    "from (select distinct energy , created_at from tb_generated_power) t1;\n",
    "\"\"\"\n",
    "curs.execute(sql)\n",
    "charge = curs.fetchall()\n",
    "charge"
   ]
  },
  {
   "cell_type": "code",
   "execution_count": 29,
   "id": "edda2896-ff55-466e-9e05-caefbc77249f",
   "metadata": {},
   "outputs": [],
   "source": [
    "# 전압 구하는 코드\n",
    "sql = \"\"\"SELECT distinct avg(t1.votage)\n",
    "FROM tb_generated_power t1\n",
    "JOIN (\n",
    "    SELECT panel_idx, MAX(created_at) AS latest\n",
    "    FROM tb_generated_power\n",
    "    GROUP BY panel_idx\n",
    ") t2\n",
    "ON t1.panel_idx = t2.panel_idx AND t1.created_at = t2.latest;\"\"\"\n",
    "curs.execute(sql)\n",
    "voltage =curs.fetchall()"
   ]
  },
  {
   "cell_type": "code",
   "execution_count": 30,
   "id": "81fcaa2b-2d06-4e0c-a174-0e67eda6c120",
   "metadata": {},
   "outputs": [
    {
     "name": "stdout",
     "output_type": "stream",
     "text": [
      "2.42\n"
     ]
    }
   ],
   "source": [
    "print((float(round(voltage[0][0],2))))"
   ]
  },
  {
   "cell_type": "code",
   "execution_count": 31,
   "id": "5d611950-dfec-4d0c-975f-521f81190c3a",
   "metadata": {},
   "outputs": [],
   "source": [
    "### 주차장 이용 실태 칸 ###\n",
    "\n",
    "# 이용률 높은 주차장 위치 코드\n",
    "  # --> 예시값 넣을 예정 \n",
    "# 평균 이용시간 코드\n",
    "sql = \"\"\"SELECT parking_lot, avg(parking_duration) as D\n",
    "FROM tb_parking\n",
    "where parking_lot like '자리%'\n",
    "GROUP BY parking_lot \n",
    "order by D desc limit 1;\"\"\"\n",
    "curs.execute(sql)\n",
    "avg_duration =curs.fetchall()\n",
    "# 전년대비 주차 이용률 코드\n",
    "  # --> 예시값 넣을 예정 "
   ]
  },
  {
   "cell_type": "code",
   "execution_count": 32,
   "id": "177daa95",
   "metadata": {},
   "outputs": [
    {
     "name": "stdout",
     "output_type": "stream",
     "text": [
      "{'이번달 누적 생산량': [(Decimal('197.08'),)], '이번달 순수 생산량': [(Decimal('197.08'),)], '현재 생산 효율': [(Decimal('33.7143'),)], '현재 생산량': [(Decimal('14.948571'),)], '배터리': [(Decimal('41.848800'),)], '전압': [(Decimal('2.420000'),)], '평균이용시간': [('자리1', 0.5454545454545454)]}\n",
      "누적생산량 197.08\n",
      "이번달 순수 생산량 197.08\n",
      "현재 생산 효율 33.7143\n",
      "현재 생산량 14.948571\n",
      "배터리 41.848800\n",
      "전압 2.420000\n",
      "평균이용시간 ('자리1', 0.5454545454545454)\n"
     ]
    }
   ],
   "source": [
    "print({ '이번달 누적 생산량' : st_prod, \n",
    "        '이번달 순수 생산량': st_stack, \n",
    "        \"현재 생산 효율\" : efficienty,\n",
    "        '현재 생산량':curr_prod, \n",
    "        '배터리':charge, \n",
    "        '전압':voltage,\n",
    "        \"평균이용시간\": avg_duration})\n",
    "print(\"누적생산량\",st_prod[0][0])\n",
    "print(\"이번달 순수 생산량\",st_stack[0][0])\n",
    "print(\"현재 생산 효율\", efficienty[0][0])\n",
    "print(\"현재 생산량\",curr_prod[0][0])\n",
    "print(\"배터리\",charge[0][0])\n",
    "print(\"전압\",voltage[0][0])\n",
    "print(\"평균이용시간\",avg_duration[0])\n",
    "\n"
   ]
  },
  {
   "cell_type": "code",
   "execution_count": 43,
   "id": "955264c3",
   "metadata": {},
   "outputs": [
    {
     "data": {
      "text/plain": [
       "[('',), ('A0',)]"
      ]
     },
     "execution_count": 43,
     "metadata": {},
     "output_type": "execute_result"
    }
   ],
   "source": [
    "sql=\"\"\"SELECT distinct parking_lot \n",
    "        FROM tb_parking \n",
    "        where created_at>= date(date(now())-2) \n",
    "                        and(sensing_value1>170\n",
    "                                or sensing_value1<2 \n",
    "                                or sensing_value2>170 \n",
    "                                or sensing_value2<2); \"\"\"\n",
    "curs.execute(sql)\n",
    "test =curs.fetchall()\n",
    "test"
   ]
  },
  {
   "cell_type": "code",
   "execution_count": 54,
   "id": "a155d17d",
   "metadata": {},
   "outputs": [],
   "source": [
    "##초음파센서 이상치 탐지\n",
    "ultraError = []\n",
    "for i in range(len(test)):\n",
    "    ultraError.append(test[i][0])"
   ]
  },
  {
   "cell_type": "code",
   "execution_count": 55,
   "id": "48c96b98",
   "metadata": {},
   "outputs": [
    {
     "data": {
      "text/plain": [
       "['', 'A0']"
      ]
     },
     "execution_count": 55,
     "metadata": {},
     "output_type": "execute_result"
    }
   ],
   "source": [
    "ultraError"
   ]
  },
  {
   "cell_type": "code",
   "execution_count": 57,
   "id": "4045965f",
   "metadata": {},
   "outputs": [],
   "source": [
    "sql=\"\"\"SELECT distinct panel_idx \n",
    "        FROM tb_generated_power \n",
    "        where created_at>= date(date(now())-2)\n",
    "            and energy<3;\"\"\"\n",
    "curs.execute(sql)\n",
    "test1 =curs.fetchall()"
   ]
  },
  {
   "cell_type": "code",
   "execution_count": 58,
   "id": "95a6857a",
   "metadata": {},
   "outputs": [
    {
     "data": {
      "text/plain": [
       "[('101001',)]"
      ]
     },
     "execution_count": 58,
     "metadata": {},
     "output_type": "execute_result"
    }
   ],
   "source": [
    "test1"
   ]
  },
  {
   "cell_type": "code",
   "execution_count": 59,
   "id": "ad1d53be",
   "metadata": {},
   "outputs": [],
   "source": [
    "panelError = []\n",
    "for i in range(len(test1)):\n",
    "    panelError.append(test1[i][0])"
   ]
  },
  {
   "cell_type": "code",
   "execution_count": 60,
   "id": "ebb7a57b",
   "metadata": {},
   "outputs": [
    {
     "data": {
      "text/plain": [
       "['101001']"
      ]
     },
     "execution_count": 60,
     "metadata": {},
     "output_type": "execute_result"
    }
   ],
   "source": [
    "panelError"
   ]
  },
  {
   "cell_type": "code",
   "execution_count": 89,
   "id": "9e1ce1e2-4dd4-4995-8abf-4e6a0d3f190e",
   "metadata": {},
   "outputs": [],
   "source": [
    "data_lst = pd.DataFrame()"
   ]
  },
  {
   "cell_type": "code",
   "execution_count": null,
   "id": "8ee700b2-dca9-4781-9727-461c0b7586e5",
   "metadata": {},
   "outputs": [],
   "source": [
    "file.to_csv('데이터.csv')"
   ]
  }
 ],
 "metadata": {
  "kernelspec": {
   "display_name": "Python 3 (ipykernel)",
   "language": "python",
   "name": "python3"
  },
  "language_info": {
   "codemirror_mode": {
    "name": "ipython",
    "version": 3
   },
   "file_extension": ".py",
   "mimetype": "text/x-python",
   "name": "python",
   "nbconvert_exporter": "python",
   "pygments_lexer": "ipython3",
   "version": "3.11.7"
  }
 },
 "nbformat": 4,
 "nbformat_minor": 5
}
